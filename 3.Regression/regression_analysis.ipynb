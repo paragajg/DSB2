{
 "cells": [
  {
   "cell_type": "markdown",
   "metadata": {},
   "source": [
    "## Regression Analysis : First Machine Learning Algorithm !!"
   ]
  },
  {
   "cell_type": "markdown",
   "metadata": {},
   "source": [
    "### Machine learning \n",
    "- is an application of artificial intelligence (AI) that provides systems the ability to automatically learn and improve from experience without being explicitly programmed.\n",
    "\n",
    "<img style=\"float: left;\" src = \"./img/ml_definition.png\" width=\"600\" height=\"600\">"
   ]
  },
  {
   "cell_type": "markdown",
   "metadata": {},
   "source": [
    "<img style=\"float: left;\" src = \"./img/traditionalVsml.png\" width=\"600\" height=\"600\">"
   ]
  },
  {
   "cell_type": "markdown",
   "metadata": {},
   "source": [
    "### Types of Machine Learning\n",
    "\n",
    "<img style=\"float: left;\" src = \"./img/types-ml.png\" width=\"700\" height=\"600\">\n",
    "\n",
    "<br>\n",
    "<br>\n",
    "\n",
    "<img style=\"float: left;\" src = \"./img/ml-ex.png\" width=\"800\" height=\"700\">"
   ]
  },
  {
   "cell_type": "markdown",
   "metadata": {},
   "source": [
    "__Why use linear regression?__\n",
    "\n",
    "1. Easy to use\n",
    "2. Easy to interpret\n",
    "3. Basis for many methods\n",
    "4. Runs fast\n",
    "5. Most people have heard about it :-) \n",
    "\n",
    "### Libraries in Python for Linear Regression\n",
    "\n",
    "The two most popular ones are\n",
    "\n",
    "1. `scikit-learn`\n",
    "2. `statsmodels`\n",
    "\n",
    "Highly recommend learning `scikit-learn` since that's also the machine learning package in Python."
   ]
  },
  {
   "cell_type": "markdown",
   "metadata": {},
   "source": [
    "### Linear regression \n",
    "\n",
    "Let's use `scikit-lean` for this example. \n",
    "\n",
    "Linear regression is of the form:\n",
    "\n",
    "$y = \\beta_0 + \\beta_1x_1 + \\beta_2x_2 + ... + \\beta_nx_n$\n",
    "\n",
    "- $y$ is what we have to predict/independent variable/response variable\n",
    "- $\\beta_0$ is the intercept/slope\n",
    "- $\\beta_1$ is the coefficient for $x_1$ (the first feature/dependent variable)\n",
    "- $\\beta_n$ is the coefficient for $x_n$ (the nth feature/dependent variable)\n",
    "\n",
    "The $\\beta$ are called *model coefficients*\n",
    "\n",
    "The model coefficients are estimated in this process. (In Machine Learning parlance - the weights are learned using the algorithm). The objective function is least squares method. \n",
    "<br>\n",
    "\n",
    "**Least Squares Method** : To identify the weights so that the overall solution minimizes the sum of the squares of the errors made in the results of every single equation. [Wiki](https://en.wikipedia.org/wiki/Least_squares)\n",
    "\n",
    "<img style=\"float: left;\" src = \"./img/lin_reg.jpg\" width=\"600\" height=\"600\">"
   ]
  },
  {
   "cell_type": "markdown",
   "metadata": {},
   "source": [
    "<h2> Model Building & Testing Methodology </h2>\n",
    "<img src=\"./img/train_test.png\" alt=\"Train & Test Methodology\" width=\"700\" height=\"600\">\n",
    "<br>\n",
    "<br>\n",
    "<br>\n",
    "\n",
    "### Must read blog:\n",
    "Interpretable Machine Learning by Christoph\n",
    "https://christophm.github.io/interpretable-ml-book/intro.html"
   ]
  },
  {
   "cell_type": "code",
   "execution_count": null,
   "metadata": {},
   "outputs": [],
   "source": [
    "# Step1: Import packages\n",
    "import pandas as pd\n",
    "import numpy as np\n",
    "import matplotlib\n",
    "import matplotlib.pyplot as plt\n",
    "from sklearn.linear_model import LinearRegression\n",
    "from sklearn.model_selection import train_test_split\n",
    "import seaborn as sns\n",
    "sns.set(color_codes = True)\n",
    "%matplotlib inline"
   ]
  },
  {
   "cell_type": "code",
   "execution_count": null,
   "metadata": {},
   "outputs": [],
   "source": [
    "# Step2:  Load our data\n",
    "df = pd.read_csv('./data/Mall_Customers.csv')\n",
    "df.rename(columns={'CustomerID':'id','Spending Score (1-100)':'score','Annual Income (k$)':'income'},inplace=True)\n",
    "df.head() # Visualize first 5 rows of data"
   ]
  },
  {
   "cell_type": "code",
   "execution_count": null,
   "metadata": {},
   "outputs": [],
   "source": [
    "# Step3: Feature Engineering - transforming variables as appropriate for inputs to Machine Learning Algorithm\n",
    "# transforming categorical variable Gender using One hot encodding\n",
    "gender_onhot = pd.get_dummies(df['Gender'])\n",
    "gender_onhot.head()"
   ]
  },
  {
   "cell_type": "code",
   "execution_count": null,
   "metadata": {},
   "outputs": [],
   "source": [
    "# Create input dataset aka X\n",
    "X = pd.merge(df[['Age','income']], gender_onhot, left_index=True, right_index=True)\n",
    "X.head()"
   ]
  },
  {
   "cell_type": "code",
   "execution_count": null,
   "metadata": {},
   "outputs": [],
   "source": [
    "sns.pairplot(X[['Age','income']])\n",
    "print(\"Correlation between variables.........\")\n",
    "X.iloc[:,:4].corr()"
   ]
  },
  {
   "cell_type": "code",
   "execution_count": null,
   "metadata": {},
   "outputs": [],
   "source": [
    "# Create target variable\n",
    "Y = df['score']\n",
    "Y.head()"
   ]
  },
  {
   "cell_type": "code",
   "execution_count": null,
   "metadata": {},
   "outputs": [],
   "source": [
    "# Step3: Split data in train & test set\n",
    "X_train, X_test, y_train, y_test = train_test_split(X,Y,test_size=0.20, random_state=42)\n",
    "print('Shape of Training Xs:{}'.format(X_train.shape))\n",
    "print('Shape of Test Xs:{}'.format(X_test.shape))"
   ]
  },
  {
   "cell_type": "code",
   "execution_count": null,
   "metadata": {},
   "outputs": [],
   "source": [
    "# Step4: Build Linear Regression Analysis Model\n",
    "learner = LinearRegression(); #initializing linear regression model\n",
    "\n",
    "learner.fit(X_train,y_train); #training the linear regression model\n",
    "y_predicted = learner.predict(X_test)\n",
    "score=learner.score(X_test,y_test);#testing the linear regression model\n"
   ]
  },
  {
   "cell_type": "markdown",
   "metadata": {},
   "source": [
    "### Interpretation\n",
    "\n",
    "__Score__: R^2 (pronounced as R Square) it is also called as __coefficient of determination__ of prediction.\n",
    "\n",
    "__Range of Score values__: 0 to 1 , 0 -> No relation between predicted Y and input Xs, 1 -> best case scenario where predicted value is same as actual value.\n",
    "__Formula for Score__: R^2 = (1 - u/v), where u is the residual sum of squares ((y_true - y_pred) ** 2).sum() and v is the total sum of squares ((y_true - y_true.mean()) ** 2).sum()"
   ]
  },
  {
   "cell_type": "code",
   "execution_count": null,
   "metadata": {},
   "outputs": [],
   "source": [
    "print(score)\n",
    "print(y_predicted)"
   ]
  },
  {
   "cell_type": "code",
   "execution_count": null,
   "metadata": {},
   "outputs": [],
   "source": [
    "# Step5: Check Accuracy of Model\n",
    "df_new = pd.DataFrame({\"true_score\":y_test,\"predicted_score\":y_predicted})\n",
    "df_new"
   ]
  },
  {
   "cell_type": "code",
   "execution_count": null,
   "metadata": {},
   "outputs": [],
   "source": [
    "# Step6: Diagnostic analysis\n",
    "\n",
    "from sklearn.metrics import mean_squared_error, r2_score\n",
    "print(\"Intercept is at: %.2f\"%(learner.intercept_))\n",
    "# The coefficients\n",
    "print('Coefficients: \\n', learner.coef_)\n",
    "# The mean squared error\n",
    "print(\"Mean squared error: %.2f\"\n",
    "      % mean_squared_error(y_test, y_predicted))\n",
    "# Explained variance score: 1 is perfect prediction\n",
    "print('Variance score: %.4f' % r2_score(y_test, y_predicted))"
   ]
  },
  {
   "cell_type": "code",
   "execution_count": null,
   "metadata": {},
   "outputs": [],
   "source": []
  },
  {
   "cell_type": "code",
   "execution_count": null,
   "metadata": {},
   "outputs": [],
   "source": []
  }
 ],
 "metadata": {
  "kernelspec": {
   "display_name": "Python 3",
   "language": "python",
   "name": "python3"
  },
  "language_info": {
   "codemirror_mode": {
    "name": "ipython",
    "version": 3
   },
   "file_extension": ".py",
   "mimetype": "text/x-python",
   "name": "python",
   "nbconvert_exporter": "python",
   "pygments_lexer": "ipython3",
   "version": "3.6.6"
  }
 },
 "nbformat": 4,
 "nbformat_minor": 2
}
