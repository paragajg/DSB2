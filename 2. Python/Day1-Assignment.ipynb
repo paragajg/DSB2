{
 "cells": [
  {
   "cell_type": "markdown",
   "metadata": {},
   "source": [
    "### Assignment"
   ]
  },
  {
   "cell_type": "markdown",
   "metadata": {},
   "source": [
    "### 1. Demonstrate Lambda functions"
   ]
  },
  {
   "cell_type": "markdown",
   "metadata": {},
   "source": [
    "#### Instructions\n",
    "- Create an arbitory dictionary with multiple key value pairs\n",
    "- Sort the keys of dictionary using lambda function"
   ]
  },
  {
   "cell_type": "markdown",
   "metadata": {},
   "source": [
    "### 2. Write a user defined function\n",
    "Identify all the prime numbers between 0 - 10,000\n",
    "- Create a function to store prime numbers in a list upto a specific value starting from 0\n",
    "- For fastest performing code explore Sieve of Eratosthenes"
   ]
  },
  {
   "cell_type": "markdown",
   "metadata": {},
   "source": [
    "### 3. Solve below problems\n",
    "- Demonstrate usage of enumerate method on lists\n",
    "- Construct a Pie Chart to show mean of spending across Gender in Mall Customer data\n",
    "- Create a Box plot using seaborn library to summarise Annual income of customers from Mall Customer data\n",
    "<br>\n",
    "\n",
    "[Seaborn: Statistical Graphing Library](https://seaborn.pydata.org/index.html)"
   ]
  },
  {
   "cell_type": "markdown",
   "metadata": {},
   "source": [
    "### 4. Blog to Read\n",
    "https://www.analyticsvidhya.com/blog/2017/09/6-probability-distributions-data-science/"
   ]
  }
 ],
 "metadata": {
  "kernelspec": {
   "display_name": "Python 3",
   "language": "python",
   "name": "python3"
  },
  "language_info": {
   "codemirror_mode": {
    "name": "ipython",
    "version": 3
   },
   "file_extension": ".py",
   "mimetype": "text/x-python",
   "name": "python",
   "nbconvert_exporter": "python",
   "pygments_lexer": "ipython3",
   "version": "3.6.6"
  }
 },
 "nbformat": 4,
 "nbformat_minor": 2
}
