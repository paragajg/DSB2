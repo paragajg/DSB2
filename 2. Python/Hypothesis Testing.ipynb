{
 "cells": [
  {
   "cell_type": "markdown",
   "metadata": {},
   "source": [
    "## Hypothesis Testing\n",
    "Used to infer the result of a hypothesis performed on sample data from a larger population. The test tells the analyst whether or not his primary hypothesis is true. \n",
    "\n",
    "> Statistical analysts test a hypothesis by measuring and examining a random sample of the population being analyzed \n",
    "\n",
    "\n",
    "Here are the steps on how we would do this\n",
    "\n",
    "1. Compute test statistic\n",
    "2. Define null hypothesis\n",
    "3. Compute p-value - *is the probability for a given statistical model that, when the null hypothesis is true*\n",
    "4. Interpret the result\n",
    "\n",
    "\n",
    "### Its an Approach to make Data Driven Decision Making\n",
    "\n",
    "### Key Terminologies\n",
    "- __Confidence Interval__: it is the range of likely values for a population parameter, such as the population mean. For example, if you compute a 95% confidence interval for the average price of a product, then you can be 95% confident that the interval contains the true average cost of all of the product.\n",
    "\n",
    "\n",
    "- __Null Hyothesis__: the hypothesis that there is no significant difference between specified populations, any observed difference being due to sampling or experimental error.\n",
    "\n",
    "\n",
    "- __Confidence Level__: the probability which a researcher sets prior to conducting the experiement with which he is confident of null hypothesis to be true.\n",
    "\n",
    "\n",
    "- __Alternate Hypothesis__: contrary to the null hypothesis. It is usually taken to be that the observations are the result of a real effect (with some amount of chance variation superposed).\n",
    "\n",
    "\n",
    "- __p value__: the probability of obtaining your sample data, if the null hypothesis were true.\n",
    "\n",
    "\n",
    "- __Alpha value__: it is the probability of making a wrong decision. Rejecting the Null Hypothesis when it is true.\n",
    "\n",
    "\n",
    "- __Power of Statistical test__: probability of making the correct decision if the alternative hypothesis is true."
   ]
  },
  {
   "cell_type": "markdown",
   "metadata": {},
   "source": [
    "<img style=\"float: left;\" src = './img/hypothesis_flowchart.jpg' height=\"640\" width=\"840\">"
   ]
  },
  {
   "cell_type": "markdown",
   "metadata": {},
   "source": [
    "<img style=\"float: left;\" src = './img/decision-matrix.jpg' height=\"640\" width=\"840\">"
   ]
  },
  {
   "cell_type": "code",
   "execution_count": null,
   "metadata": {},
   "outputs": [],
   "source": [
    "# Load packages\n",
    "import numpy as np\n",
    "import pandas as pd\n",
    "from scipy import stats\n",
    "from matplotlib import pyplot as plt\n",
    "import seaborn as sns\n",
    "sns.set(color_codes=True)\n",
    "%matplotlib inline"
   ]
  },
  {
   "cell_type": "code",
   "execution_count": null,
   "metadata": {},
   "outputs": [],
   "source": [
    "# Load our data\n",
    "df = pd.read_csv('Mall_Customers.csv')\n",
    "df.rename(columns={'CustomerID':'id','Spending Score (1-100)':'score','Annual Income (k$)':'income'},inplace=True)\n",
    "df.head() # Visualize first 5 rows of data"
   ]
  },
  {
   "cell_type": "markdown",
   "metadata": {},
   "source": [
    "### Question: Do male customers tend to spend more compared to female customers ?\n",
    "\n",
    "Below is the process of answering such questions:\n",
    "- __Translate natural language question to Mathematical Question__\n",
    "    - Spending by Males - Spending by Females > 0\n",
    "<br>\n",
    "<br>\n",
    "- __Form Hypothesis__\n",
    "    - Ho ( Null Hypothesis): It is the default statement, in our case<br>\n",
    "        __H0__ : Spending by Females - Spending by Male >= 0\n",
    "    - Ha (Alternate Hypothesis): it is the statement we want to prove <br>\n",
    "        __Ha__ : Spending by Male - Spending by Females > 0\n",
    "<br>\n",
    "<br>\n",
    "- __Define Confidence Interval__\n",
    "It is the confidence with which the null hypothesis is expected to be true.\n",
    "<img style=\"float: left;\" src = './img/hypothesis_test.gif'>\n"
   ]
  },
  {
   "cell_type": "markdown",
   "metadata": {},
   "source": [
    "__alpha__ = Significance level: of a test is a __threshold of probability α__ agreed to before the test is conducted. A typical value of __α is 0.05__ <br>\n",
    "__z-score (aka, a standard score)__ indicates how many __standard deviations__ an element is from the __mean__. A z-score can be calculated from the following formula.<br>\n",
    ">__z = (X - μ) / σ__ <br>\n",
    "where, σ standard deviation , μ - Mean <br>\n",
    "In Standard Normal Distribution: mean = 0 and standard deviaiton = 1"
   ]
  },
  {
   "cell_type": "markdown",
   "metadata": {},
   "source": [
    "- __Selection Criteria__\n",
    " - Select appropriate statistcal test\n",
    " - if p value >= 0.05 then reject Ha| Ho is likely to be true\n",
    " - if p value < 0.05 then reject Ho | Ha is likely to be true\n",
    "<br>\n",
    "<br>\n",
    "- Perform **t-test** and determine the p-value to answer our questions"
   ]
  },
  {
   "cell_type": "code",
   "execution_count": null,
   "metadata": {},
   "outputs": [],
   "source": [
    "maleSpend = df[df['Gender'] == 'Male']\n",
    "# maleSpend.shape to print [rows x colums] of data\n",
    "femaleSpend = df[df['Gender'] == 'Female']\n",
    "stats.ttest_ind(maleSpend['score'], femaleSpend.score, equal_var=True)"
   ]
  },
  {
   "cell_type": "markdown",
   "metadata": {},
   "source": [
    "__Interpretation of Test__ As p value is > 0.05 , we do not have enough evidence to reject Ho. Hence we reject Ha .<br>\n",
    "\n",
    "Finale piece in the puzzle is to translate the mathematical statement to Natural Language for humans to understand :)\n",
    "<br>\n",
    "<br>\n",
    "__Conclusion__ With the limited sample of 200 examples we cannot conclude that male spend more than feamles."
   ]
  },
  {
   "cell_type": "code",
   "execution_count": null,
   "metadata": {},
   "outputs": [],
   "source": [
    "fig, ax = plt.subplots()\n",
    "fig.set_figwidth(10)\n",
    "fig.set_figheight(6)\n",
    "x = sns.boxplot(x=\"Gender\", y=\"income\", data=df)\n",
    "x = sns.swarmplot(x=\"Gender\", y=\"income\", data=df,color=\".25\")"
   ]
  },
  {
   "cell_type": "markdown",
   "metadata": {},
   "source": [
    "### Reference for deep dive in Statistics & Probability\n",
    "__Khan Academy Theory:__ https://www.khanacademy.org/math/statistics-probability/significance-tests-one-sample <br>\n",
    "<br>\n",
    "__Python Scipy package for coding statistical tests:__ https://docs.scipy.org/doc/scipy/reference/stats.html?highlight=stats#statistical-tests <br>\n",
    "<br>\n",
    "__Python Seaborn package for visualizing data:__ https://seaborn.pydata.org/tutorial.html"
   ]
  },
  {
   "cell_type": "code",
   "execution_count": null,
   "metadata": {},
   "outputs": [],
   "source": []
  }
 ],
 "metadata": {
  "kernelspec": {
   "display_name": "Python 3",
   "language": "python",
   "name": "python3"
  },
  "language_info": {
   "codemirror_mode": {
    "name": "ipython",
    "version": 3
   },
   "file_extension": ".py",
   "mimetype": "text/x-python",
   "name": "python",
   "nbconvert_exporter": "python",
   "pygments_lexer": "ipython3",
   "version": "3.6.6"
  }
 },
 "nbformat": 4,
 "nbformat_minor": 2
}
