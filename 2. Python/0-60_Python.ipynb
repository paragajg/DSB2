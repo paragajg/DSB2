{
 "cells": [
  {
   "cell_type": "markdown",
   "metadata": {},
   "source": [
    "# How to Use Jupyter Notebook\n",
    "To edit a cell in Jupyter notebook, run the cell by pressing Shift + Enter. This will allow changes you made to be available to other cells.\n",
    "\n",
    "For more Keyboard Shortcuts go to navigation bar -- \"Help\" -- \"Keyboard Shortcuts\"\n",
    "\n",
    "### Code cells\n",
    "Re-running will execute any statements you have written. To edit an existing code cell, click on it.\n",
    "\n",
    "### Markdown cells\n",
    "Re-running will render the markdown text. To edit an existing markdown cell, double-click on it.\n",
    "\n",
    "### Explore more about notebooks -\n",
    "https://jupyter.org/try\n",
    "\n",
    "### Python References\n",
    "- https://docs.python.org/3/tutorial/index.html\n",
    "- https://daringfireball.net/projects/markdown/syntax"
   ]
  },
  {
   "cell_type": "markdown",
   "metadata": {},
   "source": [
    "### Variables"
   ]
  },
  {
   "cell_type": "markdown",
   "metadata": {},
   "source": [
    "Python is __dynamically typed__, which means that you don't have to declare what type each variable is. In Python, __variables are a storage placeholder__ for texts and numbers. It must have a name so that you are able to find it again. The variable is always assigned with the __equal sign, followed by the value of the variable.__"
   ]
  },
  {
   "cell_type": "markdown",
   "metadata": {},
   "source": [
    "### Data Types"
   ]
  },
  {
   "cell_type": "markdown",
   "metadata": {},
   "source": [
    "Everything in Python is an object and every object in Python has a type. Some of the basic types include:\n",
    "\n",
    "- int (integer; a whole number with no decimal place)\n",
    "    - 10\n",
    "    - -3\n",
    "- float (float; a number that has a decimal place)\n",
    "    - 7.41\n",
    "    - -0.006\n",
    "- str (string; a sequence of characters enclosed in single quotes, double quotes, or triple quotes)\n",
    "    - 'this is a string using single quotes'\n",
    "    - \"this is a string using double quotes\"\n",
    "    - '''this is a triple quoted string using single quotes'''\n",
    "    - \"\"\"this is a triple quoted string using double quotes\"\"\"\n",
    "- bool (boolean; a binary value that is either true or false)\n",
    "    - True\n",
    "    - False\n",
    "    - NoneType (a special type representing the absence of a value)\n",
    "    - None"
   ]
  },
  {
   "cell_type": "markdown",
   "metadata": {},
   "source": [
    "### Basic operators\n",
    "In Python, there are different types of operators (special symbols) that operate on different values. Some of the basic operators include:\n",
    "\n",
    "#### Arithmetic operators\n",
    "- \\+ (addition)\n",
    "- \\- (subtraction)\n",
    "- \\* (multiplication)\n",
    "- \\/ (division)\n",
    "- ** (exponent)\n",
    "#### Assignment operators\n",
    "- = (assign a value)\n",
    "- += (add and re-assign; increment)\n",
    "- -= (subtract and re-assign; decrement)\n",
    "- *= (multiply and re-assign)\n",
    "\n",
    "#### Comparison operators (return either True or False)\n",
    "- == (equal to)\n",
    "- != (not equal to)\n",
    "- < (less than)\n",
    "- <= (less than or equal to)\n",
    "- \\> (greater than)\n",
    "- \\>= (greater than or equal to)\n",
    "\n",
    "When multiple operators are used in a single expression, operator precedence determines which parts of the expression are evaluated in which order. Operators with higher precedence are evaluated first (like PEMDAS in math). Operators with the same precedence are evaluated from left to right.\n",
    "\n",
    "- () parentheses, for grouping\n",
    "- ** exponent\n",
    "- *, / multiplication and division\n",
    "- +, - addition and subtraction\n",
    "- ==, !=, <, <=, >, >= comparisons\n",
    "- See https://docs.python.org/3/reference/expressions.html#operator-precedence"
   ]
  },
  {
   "cell_type": "code",
   "execution_count": 2,
   "metadata": {},
   "outputs": [
    {
     "data": {
      "text/plain": [
       "'\\nThis is multi line comments\\n\\n'"
      ]
     },
     "execution_count": 2,
     "metadata": {},
     "output_type": "execute_result"
    }
   ],
   "source": [
    "# Comment\n",
    "# Here\n",
    "'''\n",
    "This is multi line comments\n",
    "\n",
    "'''"
   ]
  },
  {
   "cell_type": "code",
   "execution_count": 3,
   "metadata": {},
   "outputs": [
    {
     "name": "stdout",
     "output_type": "stream",
     "text": [
      "3\n",
      "3.0\n",
      "Hello!\n",
      "Wonderful!\n"
     ]
    }
   ],
   "source": [
    "x = 3 # integer\n",
    "y = 3. # floating point number\n",
    "z = \"Hello!\" # strings\n",
    "Z = 'Wonderful!' # another string, stored in a variable big z.\n",
    "print(x)\n",
    "print(y)\n",
    "print(z)\n",
    "print(Z)"
   ]
  },
  {
   "cell_type": "code",
   "execution_count": 4,
   "metadata": {},
   "outputs": [
    {
     "name": "stdout",
     "output_type": "stream",
     "text": [
      "6.0\n"
     ]
    }
   ],
   "source": [
    "sum_ = x + y # int + float = float\n",
    "print(sum_)"
   ]
  },
  {
   "cell_type": "code",
   "execution_count": 7,
   "metadata": {},
   "outputs": [
    {
     "name": "stdout",
     "output_type": "stream",
     "text": [
      "Hello! World!\n",
      "The sum of x and y is 6.0000\n",
      "The string `sum_string` is 'Hello! World!'\n"
     ]
    }
   ],
   "source": [
    "v = \"World!\"\n",
    "sum_string = z + \" \" + v # concatenate strings\n",
    "print(sum_string)\n",
    "print(\"The sum of x and y is %.4f\"%sum_) # %f for floating point number\n",
    "print(\"The string `sum_string` is '%s'\"%sum_string) # %s for string"
   ]
  },
  {
   "cell_type": "markdown",
   "metadata": {},
   "source": [
    "### Naming convention\n",
    "There are two commonly used style in programming:\n",
    "\n",
    "- camelCase\n",
    "- snake_case or lower_case_with_underscore\n",
    "- All variable (function and class) names must start with a letter or underscore (_). You can include numbers.\n",
    "- As a good coding practice use variable / functiona names which are easy to interpret"
   ]
  },
  {
   "cell_type": "code",
   "execution_count": null,
   "metadata": {},
   "outputs": [],
   "source": [
    "myStringHere = 'my string'\n",
    "myStringHere"
   ]
  },
  {
   "cell_type": "code",
   "execution_count": 8,
   "metadata": {},
   "outputs": [
    {
     "ename": "SyntaxError",
     "evalue": "invalid token (<ipython-input-8-182864bcacf6>, line 3)",
     "output_type": "error",
     "traceback": [
      "\u001b[0;36m  File \u001b[0;32m\"<ipython-input-8-182864bcacf6>\"\u001b[0;36m, line \u001b[0;32m3\u001b[0m\n\u001b[0;31m    3_x = \"456\" # invalid. Numbers cannot be in the first position.\u001b[0m\n\u001b[0m     ^\u001b[0m\n\u001b[0;31mSyntaxError\u001b[0m\u001b[0;31m:\u001b[0m invalid token\n"
     ]
    }
   ],
   "source": [
    "x = 3 # valid\n",
    "x_3 = \"xyz\" # valid\n",
    "3_x = \"456\" # invalid. Numbers cannot be in the first position."
   ]
  },
  {
   "cell_type": "markdown",
   "metadata": {},
   "source": [
    "Explore best practices:\n",
    "\n",
    "[1] https://www.python.org/dev/peps/pep-0008/#descriptive-naming-styles\n",
    "\n",
    "[2] https://en.wikipedia.org/wiki/Naming_convention_(programming)"
   ]
  },
  {
   "cell_type": "code",
   "execution_count": 9,
   "metadata": {},
   "outputs": [],
   "source": [
    "# To initialize a string variable, you can use either double or single quotes.\n",
    "store_name = \"Hi There\""
   ]
  },
  {
   "cell_type": "code",
   "execution_count": 11,
   "metadata": {},
   "outputs": [
    {
     "name": "stdout",
     "output_type": "stream",
     "text": [
      "i T\n"
     ]
    }
   ],
   "source": [
    "name_13 = store_name[1:4] # [start, end), end is exclusive; Python starts with 0 NOT 1\n",
    "print(name_13)"
   ]
  },
  {
   "cell_type": "code",
   "execution_count": 12,
   "metadata": {},
   "outputs": [
    {
     "name": "stdout",
     "output_type": "stream",
     "text": [
      "e\n"
     ]
    }
   ],
   "source": [
    "last_letter = store_name[-1] # -1 means the last element\n",
    "print(last_letter)"
   ]
  },
  {
   "cell_type": "markdown",
   "metadata": {},
   "source": [
    "### Data Structures"
   ]
  },
  {
   "cell_type": "markdown",
   "metadata": {},
   "source": [
    "Data structures are basically just that - they are structures which can __hold some data together__. In other words, they are used to store a __collection of related data__. There are four built-in data structures in Python \n",
    "- list \n",
    "- tuple\n",
    "- dictionary\n",
    "- set."
   ]
  },
  {
   "cell_type": "markdown",
   "metadata": {},
   "source": [
    "#### List\n",
    "Initialize a list with brackets. You can store anything in a list, even if they are different types"
   ]
  },
  {
   "cell_type": "code",
   "execution_count": 13,
   "metadata": {},
   "outputs": [
    {
     "name": "stdout",
     "output_type": "stream",
     "text": [
      "Length of a_list is: 3\n",
      "The 3rd element of a_list is: 3\n",
      "The last element of a_list is: 3\n",
      "The sum of a_list is 6.00\n"
     ]
    },
    {
     "data": {
      "text/plain": [
       "[20, True, 'good', 'good']"
      ]
     },
     "execution_count": 13,
     "metadata": {},
     "output_type": "execute_result"
    }
   ],
   "source": [
    "a_list = [1, 2, 3] # commas to seperate elements\n",
    "print(\"Length of a_list is: %i\"%(len(a_list)))\n",
    "print(\"The 3rd element of a_list is: %s\" %(a_list[2])) # Remember Python starts with 0\n",
    "print(\"The last element of a_list is: %s\" %(a_list[-1])) # -1 means the end\n",
    "print(\"The sum of a_list is %.2f\"%(sum(a_list)))\n",
    "\n",
    "# Adding differnt data types in list.\n",
    "b_list = [20, True, \"good\", \"good\"] \n",
    "b_list"
   ]
  },
  {
   "cell_type": "code",
   "execution_count": 15,
   "metadata": {},
   "outputs": [
    {
     "name": "stdout",
     "output_type": "stream",
     "text": [
      "[1, 3, 10, 20, True, 'good', 'good']\n",
      "Pop 3 out of a_list\n",
      "[1, 10, 20, True, 'good', 'good']\n",
      "[1, 10, 20, True, 'good', 'good', 10]\n",
      "After appending a new value, a_list is now: [1, 10, 20, True, 'good', 'good', 10]\n",
      "Merging a_list and b_list: [1, 10, 20, True, 'good', 'good', 10, 20, True, 'good', 'good']\n",
      "[1, 10, 20, True, 'good', 'good', 10, 20, True, 'good', 'good', 20, True, 'good', 'good']\n"
     ]
    }
   ],
   "source": [
    "print(a_list)\n",
    "print(\"Pop %i out of a_list\"%a_list.pop(1)) # pop the value of an index\n",
    "print(a_list)\n",
    "\n",
    "# Append a list\n",
    "a_list.append(10)\n",
    "print(a_list)\n",
    "print(\"After appending a new value, a_list is now: %s\"%(str(a_list)))\n",
    "\n",
    "# Merging two lists\n",
    "a_list.extend(b_list)\n",
    "print(\"Merging a_list and b_list: %s\"%(str(a_list)))\n",
    "# other alternative is to use + sign\n",
    "print(a_list + b_list)"
   ]
  },
  {
   "cell_type": "markdown",
   "metadata": {},
   "source": [
    "#### For more operations on List refer to \n",
    "https://docs.python.org/3/tutorial/datastructures.html"
   ]
  },
  {
   "cell_type": "markdown",
   "metadata": {},
   "source": [
    "#### Tuple (A special case of list whose elements cannot be changed)\n",
    "Initialize a tuple with paranthesis. The major difference between list and tuple is that you can alter list but not tuple."
   ]
  },
  {
   "cell_type": "code",
   "execution_count": null,
   "metadata": {},
   "outputs": [],
   "source": [
    "a_tuple = (1, 2, 3, 10)\n",
    "print(a_tuple)\n",
    "print(\"First element of a_tuple: %i\"%a_tuple[0])\n",
    "\n",
    "# We cannot change values in tuple, hence they are called as immutable data structures\n",
    "a_tuple[0] = 5"
   ]
  },
  {
   "cell_type": "code",
   "execution_count": 17,
   "metadata": {},
   "outputs": [
    {
     "name": "stdout",
     "output_type": "stream",
     "text": [
      "<class 'int'>\n",
      "<class 'tuple'>\n"
     ]
    }
   ],
   "source": [
    "a_tuple = (1) # this would create a int type\n",
    "print(type(a_tuple))\n",
    "b_tuple = (1,) # this would create a tuple type, take note of the comma.\n",
    "print(type(b_tuple))"
   ]
  },
  {
   "cell_type": "markdown",
   "metadata": {},
   "source": [
    "#### Dictionary: key-value pairs\n",
    "Initialize a dict by curly brackets {}"
   ]
  },
  {
   "cell_type": "code",
   "execution_count": 22,
   "metadata": {},
   "outputs": [
    {
     "name": "stdout",
     "output_type": "stream",
     "text": [
      "{1: '1 value'}\n"
     ]
    }
   ],
   "source": [
    "d = {} # empty dictionary\n",
    "d[1] = \"1 value\" # add a key-value by using bracket (key). You can put anything in key/value.\n",
    "print(d)"
   ]
  },
  {
   "cell_type": "code",
   "execution_count": 34,
   "metadata": {},
   "outputs": [],
   "source": [
    "d = {\"Name\":\"Parag\", \"SchoolYears\":2005, \"Country\":\"01\" , \"Names\":\"Joe\"}"
   ]
  },
  {
   "cell_type": "code",
   "execution_count": 36,
   "metadata": {},
   "outputs": [
    {
     "name": "stdout",
     "output_type": "stream",
     "text": [
      "{'Name': 'Pradhan', 'SchoolYears': 2005, 'Country': '01'}\n"
     ]
    }
   ],
   "source": [
    "d[\"Name\"] = \"Pradhan\"\n",
    "print(d)"
   ]
  },
  {
   "cell_type": "code",
   "execution_count": 32,
   "metadata": {},
   "outputs": [
    {
     "name": "stdout",
     "output_type": "stream",
     "text": [
      "[0, 0, 1, 2]\n",
      "{0, 1, 2}\n"
     ]
    }
   ],
   "source": [
    "l = [0,0,1,2]\n",
    "print(l)\n",
    "print(set(l))"
   ]
  },
  {
   "cell_type": "markdown",
   "metadata": {},
   "source": [
    "### Control Flow"
   ]
  },
  {
   "cell_type": "markdown",
   "metadata": {},
   "source": [
    "A program's control flow is the __order in which the program's code executes__. The control flow of a Python program is regulated by conditional statements, loops, and function calls. This section covers the if statement for and while loops"
   ]
  },
  {
   "cell_type": "code",
   "execution_count": 37,
   "metadata": {},
   "outputs": [
    {
     "name": "stdout",
     "output_type": "stream",
     "text": [
      "False\n",
      "True\n",
      "Hi There\n",
      "False\n",
      "6.6000000000000005\n",
      "False\n"
     ]
    }
   ],
   "source": [
    "print(3 == 5)\n",
    "print(72 >= 2)\n",
    "print(store_name)\n",
    "print(store_name == \"Whatsup\") # Will return a boolean value True or False\n",
    "\n",
    "# A Tricky situation.. Any reason why its false\n",
    "print(2.2 * 3.0)\n",
    "print(2.2 * 3.0 == 6.6)"
   ]
  },
  {
   "cell_type": "markdown",
   "metadata": {},
   "source": [
    "#### if else statements\n",
    "Most well known conditional statement across all programming languages"
   ]
  },
  {
   "cell_type": "code",
   "execution_count": 38,
   "metadata": {},
   "outputs": [],
   "source": [
    "sum_ = 6.0"
   ]
  },
  {
   "cell_type": "code",
   "execution_count": 39,
   "metadata": {},
   "outputs": [
    {
     "name": "stdout",
     "output_type": "stream",
     "text": [
      "sum_ is above 0 and its value is 6.0\n"
     ]
    }
   ],
   "source": [
    "if sum_ == 0:\n",
    "    print(\"sum_ is 0\")\n",
    "elif sum_ < 0:\n",
    "    print(\"sum_ is less than 0\")\n",
    "else:\n",
    "    print(\"sum_ is above 0 and its value is \" + str(sum_)) # Cast sum_ into string type."
   ]
  },
  {
   "cell_type": "code",
   "execution_count": 42,
   "metadata": {},
   "outputs": [
    {
     "name": "stdout",
     "output_type": "stream",
     "text": [
      "sum_ is above 5\n"
     ]
    }
   ],
   "source": [
    "if sum_ > 5:\n",
    "    print('sum_ is above 5')"
   ]
  },
  {
   "cell_type": "markdown",
   "metadata": {},
   "source": [
    "#### For loop: Iterating through a sequence"
   ]
  },
  {
   "cell_type": "code",
   "execution_count": 43,
   "metadata": {},
   "outputs": [
    {
     "name": "stdout",
     "output_type": "stream",
     "text": [
      "H\n",
      "i\n",
      " \n",
      "T\n",
      "h\n",
      "e\n",
      "r\n",
      "e\n"
     ]
    }
   ],
   "source": [
    "for letter in store_name:\n",
    "    print(letter)"
   ]
  },
  {
   "cell_type": "code",
   "execution_count": 44,
   "metadata": {},
   "outputs": [
    {
     "name": "stdout",
     "output_type": "stream",
     "text": [
      "range(5) gives[0, 1, 2, 3, 4]\n",
      "range(1,9) gives: [1, 2, 3, 4, 5, 6, 7, 8]\n"
     ]
    }
   ],
   "source": [
    "print(\"range(5) gives\" + str(list(range(5)))) # By default starts from 0\n",
    "print(\"range(1,9) gives: \" + str(list(range(1, 9)))) # From 1 to 9-1 (Again the end index is exclusive.)"
   ]
  },
  {
   "cell_type": "code",
   "execution_count": 45,
   "metadata": {},
   "outputs": [
    {
     "data": {
      "text/plain": [
       "8"
      ]
     },
     "execution_count": 45,
     "metadata": {},
     "output_type": "execute_result"
    }
   ],
   "source": [
    "len(store_name)"
   ]
  },
  {
   "cell_type": "code",
   "execution_count": null,
   "metadata": {},
   "outputs": [],
   "source": [
    "for index in range(len(store_name)): # length of a sequence\n",
    "    print(\"The %ith letter in store_name is: %s\"%(index, store_name[index]))"
   ]
  },
  {
   "cell_type": "markdown",
   "metadata": {},
   "source": [
    "### Break and Continue statements\n",
    "__break__ means get out of the loop immediately. Any code after the break will NOT be executed.\n",
    "__continue__ means get to the next iteration of loop. It will break the current iteration and continue to the next."
   ]
  },
  {
   "cell_type": "code",
   "execution_count": null,
   "metadata": {},
   "outputs": [],
   "source": [
    "x = 2\n",
    "while x < 10:\n",
    "    print(x)\n",
    "    x = x + (x-1)\n",
    "    #print(x)"
   ]
  },
  {
   "cell_type": "code",
   "execution_count": 49,
   "metadata": {},
   "outputs": [
    {
     "data": {
      "text/plain": [
       "'Hi There'"
      ]
     },
     "execution_count": 49,
     "metadata": {},
     "output_type": "execute_result"
    }
   ],
   "source": [
    "store_name"
   ]
  },
  {
   "cell_type": "code",
   "execution_count": 47,
   "metadata": {},
   "outputs": [
    {
     "name": "stdout",
     "output_type": "stream",
     "text": [
      "H\n",
      "i\n",
      " \n",
      "T\n",
      "h\n",
      "End at e\n"
     ]
    }
   ],
   "source": [
    "index = 0\n",
    "while True:\n",
    "    print(store_name[index])\n",
    "    index += 1 # index = index +1\n",
    "    if store_name[index] == \"e\":\n",
    "        print(\"End at e\")\n",
    "        break # instead of setting flag to False, we can directly break out of the loop\n",
    "        print(\"Hello!\") # This will NOT be run"
   ]
  },
  {
   "cell_type": "code",
   "execution_count": null,
   "metadata": {},
   "outputs": [],
   "source": [
    "index = 0\n",
    "print('Orignal length of store_name is %s'%(len(store_name)))\n",
    "while index <= len(store_name)-1:\n",
    "    print(store_name[index])\n",
    "    if store_name[index] == \"e\":\n",
    "        print(\"This is an e\")\n",
    "        index += 1 # a += b means a = a + b\n",
    "        continue\n",
    "    print(\"Hello!\") # This will NOT be run\n",
    "    index += 1 # a += b means a = a + b"
   ]
  },
  {
   "cell_type": "markdown",
   "metadata": {},
   "source": [
    "### Functions\n",
    "Function is a __block of codes__ with input arguments (and, optionally, return values) for specific purposes."
   ]
  },
  {
   "cell_type": "markdown",
   "metadata": {},
   "source": [
    "#### Python built-in functions and callables\n",
    "A function is a Python object that you can \"call\" to perform an action or compute and return another object. You call a function by placing parentheses to the right of the function name. Some functions allow you to pass arguments inside the parentheses (separating multiple arguments with a comma). Internal to the function, these arguments are treated like variables.\n",
    "\n",
    "#### Python has several useful built-in functions to help you work with different objects and/or your environment. Here is a small sample of them:\n",
    "\n",
    "- __type(obj)__ to determine the type of an object\n",
    "- __len(container)__ to determine how many items are in a container\n",
    "- __callable(obj)__ to determine if an object is callable\n",
    "- __sorted(container)__ to return a new list from a container, with the items sorted\n",
    "- __sum(container)__ to compute the sum of a container of numbers\n",
    "- __min(container)__ to determine the smallest item in a container\n",
    "- __max(container)__ to determine the largest item in a container\n",
    "- __abs(number)__ to determine the absolute value of a number\n",
    "- __repr(obj)__ to return a string representation of an object\n",
    "\n",
    "#### Detailed list of Pytho built in functions\n",
    "https://docs.python.org/3/library/functions.html"
   ]
  },
  {
   "cell_type": "code",
   "execution_count": 51,
   "metadata": {},
   "outputs": [
    {
     "name": "stdout",
     "output_type": "stream",
     "text": [
      "<class 'str'>\n",
      "8\n",
      "True\n",
      "24\n",
      "Sum of values from 0 to 20: 190.00\n",
      "Maximum value in list is: 19\n",
      "Minimum value in list is: 0\n"
     ]
    }
   ],
   "source": [
    "print(type(store_name))\n",
    "print(len(store_name))\n",
    "print(callable(dict))\n",
    "print(sum([0,2,5,7,10]))\n",
    "print(\"Sum of values from 0 to 20: %.2f\"%sum(range(20))) # The sum is not 210 as index in python always start with 0 and not 1\n",
    "print('Maximum value in list is: %s'%max(range(20)))\n",
    "print('Minimum value in list is: %s'%min(range(20)))"
   ]
  },
  {
   "cell_type": "code",
   "execution_count": 52,
   "metadata": {},
   "outputs": [
    {
     "name": "stdout",
     "output_type": "stream",
     "text": [
      "[-5, -2, 0, 2, 5, 10, 21]\n"
     ]
    }
   ],
   "source": [
    "some_list = [0,2,5,10,-5,-2,21]\n",
    "print(sorted(some_list))"
   ]
  },
  {
   "cell_type": "markdown",
   "metadata": {},
   "source": [
    "#### Some methods on string objects\n",
    "- .capitalize() to return a capitalized version of the string (only first char uppercase)\n",
    "- .upper() to return an uppercase version of the string (all chars uppercase)\n",
    "- .lower() to return an lowercase version of the string (all chars lowercase)\n",
    "- .count(substring) to return the number of occurences of the substring in the string\n",
    "- .startswith(substring) to determine if the string starts with the substring\n",
    "- .endswith(substring) to determine if the string ends with the substring\n",
    "- .replace(old, new) to return a copy of the string with occurences of the \"old\" replaced by \"new\""
   ]
  },
  {
   "cell_type": "code",
   "execution_count": 53,
   "metadata": {},
   "outputs": [],
   "source": [
    "ex = \"India\""
   ]
  },
  {
   "cell_type": "code",
   "execution_count": 57,
   "metadata": {},
   "outputs": [
    {
     "name": "stdout",
     "output_type": "stream",
     "text": [
      "Humanoid\n",
      "HUMANOID\n",
      "humanoid\n",
      "1\n",
      "False\n",
      "True\n",
      "humanoids\n"
     ]
    }
   ],
   "source": [
    "some_string = 'humanoid'\n",
    "print(some_string.capitalize())\n",
    "print(some_string.upper())\n",
    "print(some_string.lower())\n",
    "print(some_string.count('a'))\n",
    "print(some_string.startswith('a'))\n",
    "print(some_string.endswith('d'))\n",
    "print(some_string.replace('d','ds'))"
   ]
  },
  {
   "cell_type": "markdown",
   "metadata": {},
   "source": [
    "### Some methods on dictionary objects¶\n",
    "- .update([(key1, val1), (key2, val2), ...]) to add multiple key-value pairs to the dict\n",
    "- .update(dict2) to add all keys and values from another dict to the dict\n",
    "- .pop(key) to remove key and return its value from the dict (error if key not found)\n",
    "- .pop(key, default_val) to remove key and return its value from the dict (or return default_val if key not found)\n",
    "- .get(key) to return the value at a specified key in the dict (or None if key not found)\n",
    "- .get(key, default_val) to return the value at a specified key in the dict (or default_val if key not found)\n",
    "- .keys() to return a list of keys in the dict\n",
    "- .values() to return a list of values in the dict\n",
    "- .items() to return a list of key-value pairs (tuples) in the dict"
   ]
  },
  {
   "cell_type": "code",
   "execution_count": 58,
   "metadata": {},
   "outputs": [
    {
     "name": "stdout",
     "output_type": "stream",
     "text": [
      "{'Name': 'John', 'Last_Name': 'Doe', 'Age': 30, 'Kids': [1, 2]}\n"
     ]
    }
   ],
   "source": [
    "dictName = {'Name':'John',\"Last_Name\":'Doe',\"Age\":30, 'Kids':[1,2]}\n",
    "print(dictName)"
   ]
  },
  {
   "cell_type": "code",
   "execution_count": 59,
   "metadata": {},
   "outputs": [
    {
     "name": "stdout",
     "output_type": "stream",
     "text": [
      "dict_items([('Name', 'John'), ('Last_Name', 'Doe'), ('Age', 30), ('Kids', [1, 2])])\n"
     ]
    }
   ],
   "source": [
    "print(dictName.items())\n",
    "#print(dictName.keys())"
   ]
  },
  {
   "cell_type": "code",
   "execution_count": 60,
   "metadata": {},
   "outputs": [
    {
     "name": "stdout",
     "output_type": "stream",
     "text": [
      "('Name', 'John')\n",
      "('Last_Name', 'Doe')\n",
      "('Age', 30)\n",
      "('Kids', [1, 2])\n"
     ]
    }
   ],
   "source": [
    "# Using a for loop\n",
    "for key in dictName.items():\n",
    "    print(key)"
   ]
  },
  {
   "cell_type": "code",
   "execution_count": 61,
   "metadata": {},
   "outputs": [
    {
     "name": "stdout",
     "output_type": "stream",
     "text": [
      "30\n",
      "Name => John\n",
      "Last_Name => Doe\n",
      "Age => 30\n",
      "Kids => [1, 2]\n",
      "dict_values(['John', 'Doe', 30, [1, 2]])\n"
     ]
    }
   ],
   "source": [
    "# Accessing values in dictionary\n",
    "print(dictName['Age'])\n",
    "\n",
    "# Using a for loop\n",
    "for key,val in dictName.items():\n",
    "    print(key, \"=>\", val)\n",
    "    \n",
    "# Using built in method to extract all the values\n",
    "print(dictName.values())"
   ]
  },
  {
   "cell_type": "markdown",
   "metadata": {},
   "source": [
    "#### Define our own functions\n",
    "We are not limited to built-in functions only. Let's now try make our own functions. Before that, we need to be clear on the structure of a function\n",
    "```python\n",
    "def func_name(arg1, arg2, arg3, ...):\n",
    "    #####################\n",
    "    # Do something here #\n",
    "    #####################\n",
    "    return output\n",
    "```\n",
    "\n",
    "\\* *`return output` is NOT required*"
   ]
  },
  {
   "cell_type": "code",
   "execution_count": 62,
   "metadata": {},
   "outputs": [
    {
     "data": {
      "text/plain": [
       "range(0, 5)"
      ]
     },
     "execution_count": 62,
     "metadata": {},
     "output_type": "execute_result"
    }
   ],
   "source": [
    "range(5) # [0,1,2,3,4]"
   ]
  },
  {
   "cell_type": "code",
   "execution_count": 63,
   "metadata": {},
   "outputs": [],
   "source": [
    "def mySum(list_to_sum):\n",
    "    return sum(list_to_sum)"
   ]
  },
  {
   "cell_type": "code",
   "execution_count": null,
   "metadata": {},
   "outputs": [],
   "source": [
    "vari = mySum(range(100))\n",
    "print(vari)"
   ]
  },
  {
   "cell_type": "code",
   "execution_count": 69,
   "metadata": {},
   "outputs": [],
   "source": [
    "# Lets do more . complicated operations\n",
    "def mySumUsingLoop(list_to_sum):\n",
    "    sum_ = list_to_sum[0]\n",
    "    for item in list_to_sum[1:]:\n",
    "        sum_ += item\n",
    "    return sum_"
   ]
  },
  {
   "cell_type": "code",
   "execution_count": 70,
   "metadata": {},
   "outputs": [],
   "source": [
    "def customSum(x,y):\n",
    "    z = x + y\n",
    "    print(z)"
   ]
  },
  {
   "cell_type": "code",
   "execution_count": 71,
   "metadata": {},
   "outputs": [
    {
     "name": "stdout",
     "output_type": "stream",
     "text": [
      "500\n"
     ]
    }
   ],
   "source": [
    "customSum(200,300)"
   ]
  },
  {
   "cell_type": "code",
   "execution_count": null,
   "metadata": {},
   "outputs": [],
   "source": [
    "Lst = [0,1,2,3,4,5]"
   ]
  },
  {
   "cell_type": "code",
   "execution_count": 73,
   "metadata": {},
   "outputs": [
    {
     "data": {
      "text/plain": [
       "4950"
      ]
     },
     "execution_count": 73,
     "metadata": {},
     "output_type": "execute_result"
    }
   ],
   "source": [
    "mySumUsingLoop(range(100))"
   ]
  },
  {
   "cell_type": "code",
   "execution_count": 74,
   "metadata": {},
   "outputs": [
    {
     "name": "stdout",
     "output_type": "stream",
     "text": [
      "4950\n"
     ]
    }
   ],
   "source": [
    "print(mySum(range(100)))"
   ]
  },
  {
   "cell_type": "markdown",
   "metadata": {},
   "source": [
    "### Explore what are lambda function in python\n",
    "Try to use lambda function to sort dictionary object\n",
    "https://docs.python.org/3/tutorial/controlflow.html#lambda-expressions"
   ]
  },
  {
   "cell_type": "markdown",
   "metadata": {},
   "source": [
    "### Summary\n",
    "- Python is a dynamic programming language.\n",
    "- Variables are containers to store data, objects. They are created dynamically in python. No need to initiate or define them.\n",
    "- Python at its core has 4 data structures \n",
    "    - Lists - containers to store data of similar or differnet types\n",
    "    - tuple - data stored in list is immuatable\n",
    "    - set - special type of list that has unique elements. It does not contain duplicate values.\n",
    "    - dictionary - stores data in key / value pair.\n",
    "- Conditional flows in python : if/else/elif , while, for loops are most commonly used to express conditions to execute a code\n",
    "- Python has built in functions to solve complicated operations.\n",
    "- User defined functionas are chunks of codes defined to sove a series of operations."
   ]
  }
 ],
 "metadata": {
  "kernelspec": {
   "display_name": "Python 3",
   "language": "python",
   "name": "python3"
  },
  "language_info": {
   "codemirror_mode": {
    "name": "ipython",
    "version": 3
   },
   "file_extension": ".py",
   "mimetype": "text/x-python",
   "name": "python",
   "nbconvert_exporter": "python",
   "pygments_lexer": "ipython3",
   "version": "3.6.6"
  }
 },
 "nbformat": 4,
 "nbformat_minor": 2
}
