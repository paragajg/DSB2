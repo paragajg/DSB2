{
 "cells": [
  {
   "cell_type": "markdown",
   "metadata": {},
   "source": [
    "## Building and Deploying Machine Leanring as a Service"
   ]
  },
  {
   "cell_type": "markdown",
   "metadata": {},
   "source": [
    "<img src=\"MLaas.png\" alt=\"svm\" style=\"width:100%\">"
   ]
  },
  {
   "cell_type": "markdown",
   "metadata": {},
   "source": [
    "### REST API \n",
    "\n",
    "- REST is acronym for Representational State Transfer. It is architectural style for distributed hypermedia systems.\n",
    "<br>\n",
    "<br>\n",
    "\n",
    "__Hypertext__ (or hypermedia)\n",
    "- the simultaneous presentation of information and controls such that the information becomes the affordance through which the user (or automaton) obtains choices and selects actions. Remember that hypertext does not need to be HTML (or XML or JSON) on a browser. Machines can follow links when they understand the data format and relationship types."
   ]
  },
  {
   "cell_type": "markdown",
   "metadata": {},
   "source": [
    "### HTTP Requests\n",
    "- The Hypertext Transfer Protocol (HTTP) is designed to enable communications between clients and servers.\n",
    "\n",
    "__Most Common HTTP Methods__\n",
    "- GET\n",
    "- POST\n",
    "- PUT\n",
    "- DELETE\n",
    "\n",
    "For more details refer: https://www.w3schools.com/tags/ref_httpmethods.asp"
   ]
  },
  {
   "cell_type": "code",
   "execution_count": null,
   "metadata": {},
   "outputs": [],
   "source": [
    "!pip install paste"
   ]
  },
  {
   "cell_type": "code",
   "execution_count": null,
   "metadata": {},
   "outputs": [],
   "source": [
    "! pip install cherrypy"
   ]
  },
  {
   "cell_type": "code",
   "execution_count": null,
   "metadata": {},
   "outputs": [],
   "source": [
    "import flask\n",
    "import json\n",
    "import pandas as pd\n",
    "import numpy as np\n",
    "import cherrypy\n",
    "from paste.translogger import TransLogger\n",
    "import joblib\n",
    "import time"
   ]
  },
  {
   "cell_type": "code",
   "execution_count": null,
   "metadata": {},
   "outputs": [],
   "source": [
    "app = flask.Flask(__name__)\n",
    "\n",
    "model = joblib.load(\"src/email_classfierV1.0.model\")\n",
    "\n",
    "@app.route(\"/predict_spam\", methods = ['GET' , 'POST'])\n",
    "def predict_spam():\n",
    "    data = {'success': False}\n",
    "    params = flask.request.get_json(force = True)\n",
    "    print(\"Input data for prediction\")\n",
    "    print(params)\n",
    "    if (params == None):\n",
    "        params = flask.request.args\n",
    "        \n",
    "    if (params != None):\n",
    "        y_predict = model.predict(params[\"text\"])\n",
    "        dict_predict = {'predictions':y_predict[0]}\n",
    "        data.update(dict_predict)\n",
    "        data[\"success\"] = True\n",
    "        print(data)\n",
    "    \n",
    "    return flask.jsonify(data)\n",
    "\n",
    "app.run()\n",
    "\n",
    "        "
   ]
  },
  {
   "cell_type": "markdown",
   "metadata": {},
   "source": [
    "### Further Exploration\n",
    "\n",
    "- Flask API Micro Framework\n",
    "\n",
    "http://flask.pocoo.org/"
   ]
  },
  {
   "cell_type": "code",
   "execution_count": null,
   "metadata": {},
   "outputs": [],
   "source": []
  }
 ],
 "metadata": {
  "kernelspec": {
   "display_name": "Python 3",
   "language": "python",
   "name": "python3"
  },
  "language_info": {
   "codemirror_mode": {
    "name": "ipython",
    "version": 3
   },
   "file_extension": ".py",
   "mimetype": "text/x-python",
   "name": "python",
   "nbconvert_exporter": "python",
   "pygments_lexer": "ipython3",
   "version": "3.6.6"
  }
 },
 "nbformat": 4,
 "nbformat_minor": 2
}
