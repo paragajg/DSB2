{
 "cells": [
  {
   "cell_type": "markdown",
   "metadata": {},
   "source": [
    "## Netflix Recommendation Competition Dataset"
   ]
  },
  {
   "cell_type": "markdown",
   "metadata": {},
   "source": [
    "#! pip install surprise\n",
    "https://visualstudio.microsoft.com/visual-cpp-build-tools/"
   ]
  },
  {
   "cell_type": "code",
   "execution_count": 1,
   "metadata": {},
   "outputs": [],
   "source": [
    "import pandas as pd\n",
    "import numpy as np\n",
    "import math\n",
    "import re\n",
    "from scipy.sparse import csr_matrix\n",
    "import matplotlib.pyplot as plt\n",
    "import seaborn as sns\n",
    "from surprise import Reader, Dataset, SVD, evaluate\n",
    "sns.set_style(\"white\")"
   ]
  },
  {
   "cell_type": "markdown",
   "metadata": {},
   "source": [
    "### Load data set"
   ]
  },
  {
   "cell_type": "code",
   "execution_count": 3,
   "metadata": {},
   "outputs": [],
   "source": [
    "df = pd.read_csv(\"netflix-prize-data/netflix.csv\")\n",
    "df.drop(labels= [\"Unnamed: 0\"],inplace= True,axis =1)"
   ]
  },
  {
   "cell_type": "code",
   "execution_count": null,
   "metadata": {},
   "outputs": [],
   "source": []
  },
  {
   "cell_type": "code",
   "execution_count": 5,
   "metadata": {},
   "outputs": [
    {
     "name": "stdout",
     "output_type": "stream",
     "text": [
      "Shape of data is (24053764, 3)\n"
     ]
    }
   ],
   "source": [
    "df.head()\n",
    "print(\"Shape of data is {}\".format(df.shape))"
   ]
  },
  {
   "cell_type": "markdown",
   "metadata": {},
   "source": [
    "### Remove movies with less count of ratings"
   ]
  },
  {
   "cell_type": "code",
   "execution_count": 7,
   "metadata": {},
   "outputs": [
    {
     "name": "stdout",
     "output_type": "stream",
     "text": [
      "Movie minimum times of review: 3884.0\n",
      "Customer minimum times of review: 79.0\n"
     ]
    }
   ],
   "source": [
    "f = ['count','mean']\n",
    "\n",
    "df_movie_summary = df.groupby('Movie_Id')['Rating'].agg(f)\n",
    "df_movie_summary.index = df_movie_summary.index.map(int)\n",
    "movie_benchmark = round(df_movie_summary['count'].quantile(0.8),0)\n",
    "drop_movie_list = df_movie_summary[df_movie_summary['count'] < movie_benchmark].index\n",
    "\n",
    "print('Movie minimum times of review: {}'.format(movie_benchmark))\n",
    "\n",
    "df_cust_summary = df.groupby('Cust_Id')['Rating'].agg(f)\n",
    "df_cust_summary.index = df_cust_summary.index.map(int)\n",
    "cust_benchmark = round(df_cust_summary['count'].quantile(0.8),0)\n",
    "drop_cust_list = df_cust_summary[df_cust_summary['count'] < cust_benchmark].index\n",
    "\n",
    "print('Customer minimum times of review: {}'.format(cust_benchmark))"
   ]
  },
  {
   "cell_type": "markdown",
   "metadata": {},
   "source": [
    "### Use Singular Value Decompostion (SVD) to predict move preference\n",
    "\n",
    "- Using surprise package to train SVD and predict movies for a user\n",
    "ref: https://surprise.readthedocs.io/en/stable/"
   ]
  },
  {
   "cell_type": "code",
   "execution_count": 8,
   "metadata": {},
   "outputs": [
    {
     "name": "stderr",
     "output_type": "stream",
     "text": [
      "/Users/paragpradhan/anaconda3/lib/python3.6/site-packages/surprise/evaluate.py:66: UserWarning: The evaluate() method is deprecated. Please use model_selection.cross_validate() instead.\n",
      "  'model_selection.cross_validate() instead.', UserWarning)\n",
      "/Users/paragpradhan/anaconda3/lib/python3.6/site-packages/surprise/dataset.py:193: UserWarning: Using data.split() or using load_from_folds() without using a CV iterator is now deprecated. \n",
      "  UserWarning)\n"
     ]
    },
    {
     "name": "stdout",
     "output_type": "stream",
     "text": [
      "Evaluating RMSE, MAE of algorithm SVD.\n",
      "\n",
      "------------\n",
      "Fold 1\n",
      "RMSE: 0.9987\n",
      "MAE:  0.7851\n",
      "------------\n",
      "Fold 2\n",
      "RMSE: 0.9964\n",
      "MAE:  0.7839\n",
      "------------\n",
      "Fold 3\n",
      "RMSE: 1.0015\n",
      "MAE:  0.7878\n",
      "------------\n",
      "------------\n",
      "Mean RMSE: 0.9989\n",
      "Mean MAE : 0.7856\n",
      "------------\n",
      "------------\n"
     ]
    },
    {
     "data": {
      "text/plain": [
       "CaseInsensitiveDefaultDict(list,\n",
       "                           {'rmse': [0.9987090051817689,\n",
       "                             0.9964101402201426,\n",
       "                             1.0014962695520255],\n",
       "                            'mae': [0.7850540988857813,\n",
       "                             0.7838643740513767,\n",
       "                             0.7877793846444987]})"
      ]
     },
     "execution_count": 8,
     "metadata": {},
     "output_type": "execute_result"
    }
   ],
   "source": [
    "reader = Reader()\n",
    "\n",
    "# get just top 100K rows for faster run time\n",
    "data = Dataset.load_from_df(df[['Cust_Id', 'Movie_Id', 'Rating']][:500000], reader)\n",
    "data.split(n_folds=3)\n",
    "\n",
    "svd = SVD()\n",
    "evaluate(svd, data, measures=['RMSE', 'MAE'])"
   ]
  },
  {
   "cell_type": "markdown",
   "metadata": {},
   "source": [
    "### Load Movies title dataset"
   ]
  },
  {
   "cell_type": "code",
   "execution_count": 9,
   "metadata": {},
   "outputs": [
    {
     "name": "stdout",
     "output_type": "stream",
     "text": [
      "            Year                          Name\n",
      "Movie_Id                                      \n",
      "1         2003.0               Dinosaur Planet\n",
      "2         2004.0    Isle of Man TT 2004 Review\n",
      "3         1997.0                     Character\n",
      "4         1994.0  Paula Abdul's Get Up & Dance\n",
      "5         2004.0      The Rise and Fall of ECW\n",
      "6         1997.0                          Sick\n",
      "7         1992.0                         8 Man\n",
      "8         2004.0    What the #$*! Do We Know!?\n",
      "9         1991.0      Class of Nuke 'Em High 2\n",
      "10        2001.0                       Fighter\n"
     ]
    }
   ],
   "source": [
    "df_title = pd.read_csv('netflix-prize-data/movie_titles.csv', encoding = \"ISO-8859-1\", header = None, names = ['Movie_Id', 'Year', 'Name'])\n",
    "df_title.set_index('Movie_Id', inplace = True)\n",
    "print (df_title.head(10))"
   ]
  },
  {
   "cell_type": "code",
   "execution_count": 10,
   "metadata": {},
   "outputs": [
    {
     "name": "stdout",
     "output_type": "stream",
     "text": [
      "Movie_Id\n",
      "57         Richard III\n",
      "175     Reservoir Dogs\n",
      "311            Ed Wood\n",
      "329              Dogma\n",
      "331        Chasing Amy\n",
      "395      Captain Blood\n",
      "788             Clerks\n",
      "798               Jaws\n",
      "907    Animal Crackers\n",
      "985          The Mummy\n",
      "Name: Name, dtype: object\n"
     ]
    }
   ],
   "source": [
    "df_785314 = df[(df['Cust_Id'] == 785314) & (df['Rating'] == 5)]\n",
    "df_785314 = df_785314.set_index('Movie_Id')\n",
    "df_785314 = df_785314.join(df_title)['Name']\n",
    "print(df_785314[:10])"
   ]
  },
  {
   "cell_type": "code",
   "execution_count": 12,
   "metadata": {},
   "outputs": [
    {
     "name": "stdout",
     "output_type": "stream",
     "text": [
      "       Year                                  Name  Estimate_Score\n",
      "208  1996.0  Star Trek: Deep Space Nine: Season 5        4.377619\n",
      "137  1995.0          Star Trek: Voyager: Season 1        4.325194\n",
      "151  1995.0                     A Little Princess        3.588695\n",
      "32   2000.0        Aqua Teen Hunger Force: Vol. 1        3.584963\n",
      "27   2002.0                       Lilo and Stitch        3.500838\n",
      "190  2003.0                      X2: X-Men United        3.473903\n",
      "142  1997.0                              The Game        3.473758\n",
      "174  1992.0                        Reservoir Dogs        3.384928\n",
      "166  2004.0                            The Chorus        3.379664\n",
      "45   1964.0        Rudolph the Red-Nosed Reindeer        3.284995\n"
     ]
    }
   ],
   "source": [
    "# Let's predict which movies user 785314 would love to watch:\n",
    "user_785314 = df_title.copy()\n",
    "user_785314 = user_785314.reset_index()\n",
    "user_785314 = user_785314[~user_785314['Movie_Id'].isin(drop_movie_list)]\n",
    "\n",
    "# getting full dataset\n",
    "data = Dataset.load_from_df(df[['Cust_Id', 'Movie_Id', 'Rating']][:1000000], reader)\n",
    "\n",
    "\n",
    "trainset = data.build_full_trainset()\n",
    "#svd = SVD()\n",
    "svd.fit(trainset)\n",
    "\n",
    "user_785314['Estimate_Score'] = user_785314['Movie_Id'].apply(lambda x: svd.predict(785314, x).est)\n",
    "\n",
    "user_785314 = user_785314.drop('Movie_Id', axis = 1)\n",
    "\n",
    "user_785314 = user_785314.sort_values('Estimate_Score', ascending=False)\n",
    "print(user_785314.head(10))"
   ]
  },
  {
   "cell_type": "markdown",
   "metadata": {},
   "source": [
    "### Writing a function to automate the above steps"
   ]
  },
  {
   "cell_type": "code",
   "execution_count": 14,
   "metadata": {},
   "outputs": [],
   "source": [
    "def predict_movie(user_id,movie_list,df):\n",
    "    # view historical preference of the user\n",
    "    temp_usr = df[(df['Cust_Id'] == user_id) & (df['Rating'] == 5)]\n",
    "    temp_usr = temp_usr.set_index('Movie_Id')\n",
    "    temp_usr = temp_usr.join(df_title)['Name']\n",
    "    print(\"Movies Previously liked by user.....................\")\n",
    "    print(temp_usr[:10])\n",
    "    \n",
    "    # create svd model to predict movies for user\n",
    "    user = movie_list.copy()\n",
    "    user = user.reset_index()\n",
    "    user = user[~user['Movie_Id'].isin(drop_movie_list)]\n",
    "\n",
    "    # getting dataset\n",
    "    reader = Reader()\n",
    "    data = Dataset.load_from_df(df[['Cust_Id', 'Movie_Id', 'Rating']][:1000000], reader)\n",
    "\n",
    "    trainset = data.build_full_trainset()\n",
    "    svd = SVD()\n",
    "    svd.fit(trainset)\n",
    "\n",
    "    user['Estimate_Score'] = user['Movie_Id'].apply(lambda x: svd.predict(user_id, x).est)\n",
    "\n",
    "    user = user.drop('Movie_Id', axis = 1)\n",
    "\n",
    "    user = user.sort_values('Estimate_Score', ascending=False)\n",
    "    print(\"Recommended Movies for User are as follows.........\\n\")\n",
    "    print(user.head(10))"
   ]
  },
  {
   "cell_type": "code",
   "execution_count": 17,
   "metadata": {},
   "outputs": [
    {
     "name": "stdout",
     "output_type": "stream",
     "text": [
      "Movies Previously liked by user.....................\n",
      "Movie_Id\n",
      "175                       Reservoir Dogs\n",
      "223           Chappelle's Show: Season 1\n",
      "281                           The Legend\n",
      "312                        High Fidelity\n",
      "416                             Elephant\n",
      "457                    Kill Bill: Vol. 2\n",
      "919                             Comedian\n",
      "996                              Yojimbo\n",
      "1479                    Man on the Train\n",
      "1642    Casino: 10th Anniversary Edition\n",
      "Name: Name, dtype: object\n",
      "Recommended Movies for User are as follows.........\n",
      "\n",
      "       Year                                  Name  Estimate_Score\n",
      "222  2003.0            Chappelle's Show: Season 1        4.665305\n",
      "151  1995.0                     A Little Princess        4.622339\n",
      "208  1996.0  Star Trek: Deep Space Nine: Season 5        4.571597\n",
      "32   2000.0        Aqua Teen Hunger Force: Vol. 1        4.544464\n",
      "17   1994.0                      Immortal Beloved        4.463925\n",
      "174  1992.0                        Reservoir Dogs        4.439204\n",
      "214  1998.0              That '70s Show: Season 1        4.405784\n",
      "166  2004.0                            The Chorus        4.392050\n",
      "137  1995.0          Star Trek: Voyager: Season 1        4.354526\n",
      "190  2003.0                      X2: X-Men United        4.262202\n"
     ]
    }
   ],
   "source": [
    "predict_movie(user_id=512536, movie_list= df_title, df = df)"
   ]
  },
  {
   "cell_type": "code",
   "execution_count": 31,
   "metadata": {},
   "outputs": [
    {
     "data": {
      "text/plain": [
       "24053759    2591364\n",
       "24053760    1791000\n",
       "24053761     512536\n",
       "24053762     988963\n",
       "24053763    1704416\n",
       "Name: Cust_Id, dtype: int64"
      ]
     },
     "execution_count": 31,
     "metadata": {},
     "output_type": "execute_result"
    }
   ],
   "source": [
    "## Use below customer ids to verify the preference\n",
    "\n",
    "df[\"Cust_Id\"].tail()"
   ]
  },
  {
   "cell_type": "code",
   "execution_count": null,
   "metadata": {},
   "outputs": [],
   "source": []
  }
 ],
 "metadata": {
  "kernelspec": {
   "display_name": "Python 3",
   "language": "python",
   "name": "python3"
  },
  "language_info": {
   "codemirror_mode": {
    "name": "ipython",
    "version": 3
   },
   "file_extension": ".py",
   "mimetype": "text/x-python",
   "name": "python",
   "nbconvert_exporter": "python",
   "pygments_lexer": "ipython3",
   "version": "3.6.6"
  }
 },
 "nbformat": 4,
 "nbformat_minor": 2
}
